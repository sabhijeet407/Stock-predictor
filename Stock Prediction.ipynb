{
 "cells": [
  {
   "cell_type": "code",
   "execution_count": 365,
   "id": "bca150e3",
   "metadata": {},
   "outputs": [
    {
     "data": {
      "text/html": [
       "<div>\n",
       "<style scoped>\n",
       "    .dataframe tbody tr th:only-of-type {\n",
       "        vertical-align: middle;\n",
       "    }\n",
       "\n",
       "    .dataframe tbody tr th {\n",
       "        vertical-align: top;\n",
       "    }\n",
       "\n",
       "    .dataframe thead th {\n",
       "        text-align: right;\n",
       "    }\n",
       "</style>\n",
       "<table border=\"1\" class=\"dataframe\">\n",
       "  <thead>\n",
       "    <tr style=\"text-align: right;\">\n",
       "      <th></th>\n",
       "      <th>Date</th>\n",
       "      <th>Open</th>\n",
       "      <th>High</th>\n",
       "      <th>Low</th>\n",
       "      <th>Close</th>\n",
       "      <th>Adj Close</th>\n",
       "      <th>Volume</th>\n",
       "    </tr>\n",
       "  </thead>\n",
       "  <tbody>\n",
       "    <tr>\n",
       "      <th>0</th>\n",
       "      <td>2022-02-21</td>\n",
       "      <td>2412.000000</td>\n",
       "      <td>2437.500000</td>\n",
       "      <td>2384.600098</td>\n",
       "      <td>2399.899902</td>\n",
       "      <td>2392.696045</td>\n",
       "      <td>5125968</td>\n",
       "    </tr>\n",
       "    <tr>\n",
       "      <th>1</th>\n",
       "      <td>2022-02-22</td>\n",
       "      <td>2352.899902</td>\n",
       "      <td>2395.899902</td>\n",
       "      <td>2347.149902</td>\n",
       "      <td>2389.000000</td>\n",
       "      <td>2381.828857</td>\n",
       "      <td>6227901</td>\n",
       "    </tr>\n",
       "    <tr>\n",
       "      <th>2</th>\n",
       "      <td>2022-02-23</td>\n",
       "      <td>2401.100098</td>\n",
       "      <td>2406.550049</td>\n",
       "      <td>2368.000000</td>\n",
       "      <td>2374.050049</td>\n",
       "      <td>2366.923828</td>\n",
       "      <td>3373615</td>\n",
       "    </tr>\n",
       "  </tbody>\n",
       "</table>\n",
       "</div>"
      ],
      "text/plain": [
       "         Date         Open         High          Low        Close  \\\n",
       "0  2022-02-21  2412.000000  2437.500000  2384.600098  2399.899902   \n",
       "1  2022-02-22  2352.899902  2395.899902  2347.149902  2389.000000   \n",
       "2  2022-02-23  2401.100098  2406.550049  2368.000000  2374.050049   \n",
       "\n",
       "     Adj Close   Volume  \n",
       "0  2392.696045  5125968  \n",
       "1  2381.828857  6227901  \n",
       "2  2366.923828  3373615  "
      ]
     },
     "execution_count": 365,
     "metadata": {},
     "output_type": "execute_result"
    }
   ],
   "source": [
    "import pandas as pd\n",
    "import numpy as np\n",
    "from sklearn.model_selection import train_test_split\n",
    "from sklearn.linear_model import LinearRegression\n",
    "from sklearn.metrics import confusion_matrix, accuracy_score\n",
    "\n",
    "df= pd.read_csv('RELIANCE.NS.csv')\n",
    "df.head(3)"
   ]
  },
  {
   "cell_type": "code",
   "execution_count": 366,
   "id": "e498b953",
   "metadata": {},
   "outputs": [
    {
     "data": {
      "text/html": [
       "<div>\n",
       "<style scoped>\n",
       "    .dataframe tbody tr th:only-of-type {\n",
       "        vertical-align: middle;\n",
       "    }\n",
       "\n",
       "    .dataframe tbody tr th {\n",
       "        vertical-align: top;\n",
       "    }\n",
       "\n",
       "    .dataframe thead th {\n",
       "        text-align: right;\n",
       "    }\n",
       "</style>\n",
       "<table border=\"1\" class=\"dataframe\">\n",
       "  <thead>\n",
       "    <tr style=\"text-align: right;\">\n",
       "      <th></th>\n",
       "      <th>Date</th>\n",
       "      <th>Close</th>\n",
       "      <th>Volume</th>\n",
       "      <th>Net</th>\n",
       "    </tr>\n",
       "  </thead>\n",
       "  <tbody>\n",
       "    <tr>\n",
       "      <th>0</th>\n",
       "      <td>2022-02-21</td>\n",
       "      <td>2399.899902</td>\n",
       "      <td>5125968</td>\n",
       "      <td>2408.500000</td>\n",
       "    </tr>\n",
       "    <tr>\n",
       "      <th>1</th>\n",
       "      <td>2022-02-22</td>\n",
       "      <td>2389.000000</td>\n",
       "      <td>6227901</td>\n",
       "      <td>2371.237426</td>\n",
       "    </tr>\n",
       "    <tr>\n",
       "      <th>2</th>\n",
       "      <td>2022-02-23</td>\n",
       "      <td>2374.050049</td>\n",
       "      <td>3373615</td>\n",
       "      <td>2387.425049</td>\n",
       "    </tr>\n",
       "  </tbody>\n",
       "</table>\n",
       "</div>"
      ],
      "text/plain": [
       "         Date        Close   Volume          Net\n",
       "0  2022-02-21  2399.899902  5125968  2408.500000\n",
       "1  2022-02-22  2389.000000  6227901  2371.237426\n",
       "2  2022-02-23  2374.050049  3373615  2387.425049"
      ]
     },
     "execution_count": 366,
     "metadata": {},
     "output_type": "execute_result"
    }
   ],
   "source": [
    "df['Net']=(df['Open']+df['High']+df['Low']+df['Close'])/4\n",
    "df.drop(['High','Low','Open','Adj Close'],axis=1,inplace=True)\n",
    "df.head(3)\n"
   ]
  },
  {
   "cell_type": "code",
   "execution_count": 367,
   "id": "82565688",
   "metadata": {},
   "outputs": [
    {
     "data": {
      "text/html": [
       "<div>\n",
       "<style scoped>\n",
       "    .dataframe tbody tr th:only-of-type {\n",
       "        vertical-align: middle;\n",
       "    }\n",
       "\n",
       "    .dataframe tbody tr th {\n",
       "        vertical-align: top;\n",
       "    }\n",
       "\n",
       "    .dataframe thead th {\n",
       "        text-align: right;\n",
       "    }\n",
       "</style>\n",
       "<table border=\"1\" class=\"dataframe\">\n",
       "  <thead>\n",
       "    <tr style=\"text-align: right;\">\n",
       "      <th></th>\n",
       "      <th>Date</th>\n",
       "      <th>Close</th>\n",
       "      <th>Volume</th>\n",
       "      <th>Net</th>\n",
       "      <th>MA50</th>\n",
       "      <th>MA100</th>\n",
       "    </tr>\n",
       "  </thead>\n",
       "  <tbody>\n",
       "    <tr>\n",
       "      <th>0</th>\n",
       "      <td>2022-02-21</td>\n",
       "      <td>2399.899902</td>\n",
       "      <td>5125968</td>\n",
       "      <td>2408.500000</td>\n",
       "      <td>NaN</td>\n",
       "      <td>NaN</td>\n",
       "    </tr>\n",
       "    <tr>\n",
       "      <th>1</th>\n",
       "      <td>2022-02-22</td>\n",
       "      <td>2389.000000</td>\n",
       "      <td>6227901</td>\n",
       "      <td>2371.237426</td>\n",
       "      <td>NaN</td>\n",
       "      <td>NaN</td>\n",
       "    </tr>\n",
       "    <tr>\n",
       "      <th>2</th>\n",
       "      <td>2022-02-23</td>\n",
       "      <td>2374.050049</td>\n",
       "      <td>3373615</td>\n",
       "      <td>2387.425049</td>\n",
       "      <td>NaN</td>\n",
       "      <td>NaN</td>\n",
       "    </tr>\n",
       "    <tr>\n",
       "      <th>3</th>\n",
       "      <td>2022-02-24</td>\n",
       "      <td>2255.750000</td>\n",
       "      <td>11466725</td>\n",
       "      <td>2286.012451</td>\n",
       "      <td>NaN</td>\n",
       "      <td>NaN</td>\n",
       "    </tr>\n",
       "    <tr>\n",
       "      <th>4</th>\n",
       "      <td>2022-02-25</td>\n",
       "      <td>2283.949951</td>\n",
       "      <td>6724094</td>\n",
       "      <td>2287.062500</td>\n",
       "      <td>NaN</td>\n",
       "      <td>NaN</td>\n",
       "    </tr>\n",
       "    <tr>\n",
       "      <th>...</th>\n",
       "      <td>...</td>\n",
       "      <td>...</td>\n",
       "      <td>...</td>\n",
       "      <td>...</td>\n",
       "      <td>...</td>\n",
       "      <td>...</td>\n",
       "    </tr>\n",
       "    <tr>\n",
       "      <th>243</th>\n",
       "      <td>2023-02-13</td>\n",
       "      <td>2323.350098</td>\n",
       "      <td>4777674</td>\n",
       "      <td>2331.775024</td>\n",
       "      <td>2498.807748</td>\n",
       "      <td>2505.428502</td>\n",
       "    </tr>\n",
       "    <tr>\n",
       "      <th>244</th>\n",
       "      <td>2023-02-14</td>\n",
       "      <td>2378.100098</td>\n",
       "      <td>6609564</td>\n",
       "      <td>2353.399963</td>\n",
       "      <td>2491.929747</td>\n",
       "      <td>2503.876252</td>\n",
       "    </tr>\n",
       "    <tr>\n",
       "      <th>245</th>\n",
       "      <td>2023-02-15</td>\n",
       "      <td>2431.949951</td>\n",
       "      <td>15461902</td>\n",
       "      <td>2404.537476</td>\n",
       "      <td>2486.453997</td>\n",
       "      <td>2503.053626</td>\n",
       "    </tr>\n",
       "    <tr>\n",
       "      <th>246</th>\n",
       "      <td>2023-02-16</td>\n",
       "      <td>2430.050049</td>\n",
       "      <td>7967558</td>\n",
       "      <td>2442.087524</td>\n",
       "      <td>2481.932498</td>\n",
       "      <td>2502.833126</td>\n",
       "    </tr>\n",
       "    <tr>\n",
       "      <th>247</th>\n",
       "      <td>2023-02-17</td>\n",
       "      <td>2440.199951</td>\n",
       "      <td>5450092</td>\n",
       "      <td>2429.575012</td>\n",
       "      <td>2477.452247</td>\n",
       "      <td>2503.218001</td>\n",
       "    </tr>\n",
       "  </tbody>\n",
       "</table>\n",
       "<p>248 rows × 6 columns</p>\n",
       "</div>"
      ],
      "text/plain": [
       "           Date        Close    Volume          Net         MA50        MA100\n",
       "0    2022-02-21  2399.899902   5125968  2408.500000          NaN          NaN\n",
       "1    2022-02-22  2389.000000   6227901  2371.237426          NaN          NaN\n",
       "2    2022-02-23  2374.050049   3373615  2387.425049          NaN          NaN\n",
       "3    2022-02-24  2255.750000  11466725  2286.012451          NaN          NaN\n",
       "4    2022-02-25  2283.949951   6724094  2287.062500          NaN          NaN\n",
       "..          ...          ...       ...          ...          ...          ...\n",
       "243  2023-02-13  2323.350098   4777674  2331.775024  2498.807748  2505.428502\n",
       "244  2023-02-14  2378.100098   6609564  2353.399963  2491.929747  2503.876252\n",
       "245  2023-02-15  2431.949951  15461902  2404.537476  2486.453997  2503.053626\n",
       "246  2023-02-16  2430.050049   7967558  2442.087524  2481.932498  2502.833126\n",
       "247  2023-02-17  2440.199951   5450092  2429.575012  2477.452247  2503.218001\n",
       "\n",
       "[248 rows x 6 columns]"
      ]
     },
     "execution_count": 367,
     "metadata": {},
     "output_type": "execute_result"
    }
   ],
   "source": [
    "df['MA50']=df['Net'].rolling(50).mean()\n",
    "df['MA100']=df['Net'].rolling(100).mean()\n",
    "df"
   ]
  },
  {
   "cell_type": "code",
   "execution_count": 368,
   "id": "b4f0e2a7",
   "metadata": {},
   "outputs": [
    {
     "data": {
      "text/html": [
       "<div>\n",
       "<style scoped>\n",
       "    .dataframe tbody tr th:only-of-type {\n",
       "        vertical-align: middle;\n",
       "    }\n",
       "\n",
       "    .dataframe tbody tr th {\n",
       "        vertical-align: top;\n",
       "    }\n",
       "\n",
       "    .dataframe thead th {\n",
       "        text-align: right;\n",
       "    }\n",
       "</style>\n",
       "<table border=\"1\" class=\"dataframe\">\n",
       "  <thead>\n",
       "    <tr style=\"text-align: right;\">\n",
       "      <th></th>\n",
       "      <th>Date</th>\n",
       "      <th>Close</th>\n",
       "      <th>Volume</th>\n",
       "      <th>Net</th>\n",
       "      <th>MA50</th>\n",
       "      <th>MA100</th>\n",
       "    </tr>\n",
       "  </thead>\n",
       "  <tbody>\n",
       "    <tr>\n",
       "      <th>247</th>\n",
       "      <td>2023-02-17</td>\n",
       "      <td>2440.199951</td>\n",
       "      <td>5450092</td>\n",
       "      <td>2429.575012</td>\n",
       "      <td>2477.452247</td>\n",
       "      <td>2503.218001</td>\n",
       "    </tr>\n",
       "    <tr>\n",
       "      <th>246</th>\n",
       "      <td>2023-02-16</td>\n",
       "      <td>2430.050049</td>\n",
       "      <td>7967558</td>\n",
       "      <td>2442.087524</td>\n",
       "      <td>2481.932498</td>\n",
       "      <td>2502.833126</td>\n",
       "    </tr>\n",
       "    <tr>\n",
       "      <th>245</th>\n",
       "      <td>2023-02-15</td>\n",
       "      <td>2431.949951</td>\n",
       "      <td>15461902</td>\n",
       "      <td>2404.537476</td>\n",
       "      <td>2486.453997</td>\n",
       "      <td>2503.053626</td>\n",
       "    </tr>\n",
       "    <tr>\n",
       "      <th>244</th>\n",
       "      <td>2023-02-14</td>\n",
       "      <td>2378.100098</td>\n",
       "      <td>6609564</td>\n",
       "      <td>2353.399963</td>\n",
       "      <td>2491.929747</td>\n",
       "      <td>2503.876252</td>\n",
       "    </tr>\n",
       "    <tr>\n",
       "      <th>243</th>\n",
       "      <td>2023-02-13</td>\n",
       "      <td>2323.350098</td>\n",
       "      <td>4777674</td>\n",
       "      <td>2331.775024</td>\n",
       "      <td>2498.807748</td>\n",
       "      <td>2505.428502</td>\n",
       "    </tr>\n",
       "  </tbody>\n",
       "</table>\n",
       "</div>"
      ],
      "text/plain": [
       "           Date        Close    Volume          Net         MA50        MA100\n",
       "247  2023-02-17  2440.199951   5450092  2429.575012  2477.452247  2503.218001\n",
       "246  2023-02-16  2430.050049   7967558  2442.087524  2481.932498  2502.833126\n",
       "245  2023-02-15  2431.949951  15461902  2404.537476  2486.453997  2503.053626\n",
       "244  2023-02-14  2378.100098   6609564  2353.399963  2491.929747  2503.876252\n",
       "243  2023-02-13  2323.350098   4777674  2331.775024  2498.807748  2505.428502"
      ]
     },
     "execution_count": 368,
     "metadata": {},
     "output_type": "execute_result"
    }
   ],
   "source": [
    "df=df.sort_values(['Date'],ascending=False)\n",
    "df.head()"
   ]
  },
  {
   "cell_type": "code",
   "execution_count": 369,
   "id": "94c4290f",
   "metadata": {},
   "outputs": [
    {
     "data": {
      "text/html": [
       "<div>\n",
       "<style scoped>\n",
       "    .dataframe tbody tr th:only-of-type {\n",
       "        vertical-align: middle;\n",
       "    }\n",
       "\n",
       "    .dataframe tbody tr th {\n",
       "        vertical-align: top;\n",
       "    }\n",
       "\n",
       "    .dataframe thead th {\n",
       "        text-align: right;\n",
       "    }\n",
       "</style>\n",
       "<table border=\"1\" class=\"dataframe\">\n",
       "  <thead>\n",
       "    <tr style=\"text-align: right;\">\n",
       "      <th></th>\n",
       "      <th>Date</th>\n",
       "      <th>Close</th>\n",
       "      <th>Volume</th>\n",
       "      <th>Net</th>\n",
       "      <th>MA50</th>\n",
       "      <th>MA100</th>\n",
       "      <th>Signal</th>\n",
       "    </tr>\n",
       "  </thead>\n",
       "  <tbody>\n",
       "    <tr>\n",
       "      <th>247</th>\n",
       "      <td>2023-02-17</td>\n",
       "      <td>2440.199951</td>\n",
       "      <td>5450092</td>\n",
       "      <td>2429.575012</td>\n",
       "      <td>2477.452247</td>\n",
       "      <td>2503.218001</td>\n",
       "      <td>-1</td>\n",
       "    </tr>\n",
       "    <tr>\n",
       "      <th>246</th>\n",
       "      <td>2023-02-16</td>\n",
       "      <td>2430.050049</td>\n",
       "      <td>7967558</td>\n",
       "      <td>2442.087524</td>\n",
       "      <td>2481.932498</td>\n",
       "      <td>2502.833126</td>\n",
       "      <td>-1</td>\n",
       "    </tr>\n",
       "    <tr>\n",
       "      <th>245</th>\n",
       "      <td>2023-02-15</td>\n",
       "      <td>2431.949951</td>\n",
       "      <td>15461902</td>\n",
       "      <td>2404.537476</td>\n",
       "      <td>2486.453997</td>\n",
       "      <td>2503.053626</td>\n",
       "      <td>-1</td>\n",
       "    </tr>\n",
       "    <tr>\n",
       "      <th>244</th>\n",
       "      <td>2023-02-14</td>\n",
       "      <td>2378.100098</td>\n",
       "      <td>6609564</td>\n",
       "      <td>2353.399963</td>\n",
       "      <td>2491.929747</td>\n",
       "      <td>2503.876252</td>\n",
       "      <td>-1</td>\n",
       "    </tr>\n",
       "  </tbody>\n",
       "</table>\n",
       "</div>"
      ],
      "text/plain": [
       "           Date        Close    Volume          Net         MA50        MA100  \\\n",
       "247  2023-02-17  2440.199951   5450092  2429.575012  2477.452247  2503.218001   \n",
       "246  2023-02-16  2430.050049   7967558  2442.087524  2481.932498  2502.833126   \n",
       "245  2023-02-15  2431.949951  15461902  2404.537476  2486.453997  2503.053626   \n",
       "244  2023-02-14  2378.100098   6609564  2353.399963  2491.929747  2503.876252   \n",
       "\n",
       "     Signal  \n",
       "247      -1  \n",
       "246      -1  \n",
       "245      -1  \n",
       "244      -1  "
      ]
     },
     "execution_count": 369,
     "metadata": {},
     "output_type": "execute_result"
    }
   ],
   "source": [
    "df['Signal']=0\n",
    "df.loc[df['MA50']>df['MA100'],'Signal']= 1\n",
    "df.loc[df['MA50']<df['MA100'],'Signal']= -1\n",
    "df.head(4)\n"
   ]
  },
  {
   "cell_type": "code",
   "execution_count": 370,
   "id": "869dd37d",
   "metadata": {},
   "outputs": [
    {
     "data": {
      "text/plain": [
       "45"
      ]
     },
     "execution_count": 370,
     "metadata": {},
     "output_type": "execute_result"
    }
   ],
   "source": [
    "df.loc[df['Signal']==1,'Signal'].count()"
   ]
  },
  {
   "cell_type": "code",
   "execution_count": 371,
   "id": "4e8662f0",
   "metadata": {},
   "outputs": [],
   "source": [
    "df['MA50'] = df['MA50'].fillna(0)\n",
    "df['MA100'] = df['MA100'].fillna(0)"
   ]
  },
  {
   "cell_type": "code",
   "execution_count": 372,
   "id": "d3336359",
   "metadata": {},
   "outputs": [
    {
     "data": {
      "text/html": [
       "<div>\n",
       "<style scoped>\n",
       "    .dataframe tbody tr th:only-of-type {\n",
       "        vertical-align: middle;\n",
       "    }\n",
       "\n",
       "    .dataframe tbody tr th {\n",
       "        vertical-align: top;\n",
       "    }\n",
       "\n",
       "    .dataframe thead th {\n",
       "        text-align: right;\n",
       "    }\n",
       "</style>\n",
       "<table border=\"1\" class=\"dataframe\">\n",
       "  <thead>\n",
       "    <tr style=\"text-align: right;\">\n",
       "      <th></th>\n",
       "      <th>Close</th>\n",
       "      <th>Volume</th>\n",
       "      <th>Net</th>\n",
       "      <th>MA50</th>\n",
       "      <th>MA100</th>\n",
       "    </tr>\n",
       "  </thead>\n",
       "  <tbody>\n",
       "    <tr>\n",
       "      <th>247</th>\n",
       "      <td>2440.199951</td>\n",
       "      <td>5450092</td>\n",
       "      <td>2429.575012</td>\n",
       "      <td>2477.452247</td>\n",
       "      <td>2503.218001</td>\n",
       "    </tr>\n",
       "    <tr>\n",
       "      <th>246</th>\n",
       "      <td>2430.050049</td>\n",
       "      <td>7967558</td>\n",
       "      <td>2442.087524</td>\n",
       "      <td>2481.932498</td>\n",
       "      <td>2502.833126</td>\n",
       "    </tr>\n",
       "    <tr>\n",
       "      <th>245</th>\n",
       "      <td>2431.949951</td>\n",
       "      <td>15461902</td>\n",
       "      <td>2404.537476</td>\n",
       "      <td>2486.453997</td>\n",
       "      <td>2503.053626</td>\n",
       "    </tr>\n",
       "  </tbody>\n",
       "</table>\n",
       "</div>"
      ],
      "text/plain": [
       "           Close    Volume          Net         MA50        MA100\n",
       "247  2440.199951   5450092  2429.575012  2477.452247  2503.218001\n",
       "246  2430.050049   7967558  2442.087524  2481.932498  2502.833126\n",
       "245  2431.949951  15461902  2404.537476  2486.453997  2503.053626"
      ]
     },
     "execution_count": 372,
     "metadata": {},
     "output_type": "execute_result"
    }
   ],
   "source": [
    "X=df.drop(['Signal','Date'],axis=1)\n",
    "y= df['Signal']\n",
    "X_train, X_test, y_train, y_test = train_test_split(X, y, test_size=0.2, random_state=0)\n",
    "model= LinearRegression()\n",
    "X.head(3)"
   ]
  },
  {
   "cell_type": "code",
   "execution_count": 374,
   "id": "30ee11c5",
   "metadata": {},
   "outputs": [
    {
     "data": {
      "text/plain": [
       "0      0\n",
       "79     0\n",
       "171   -1\n",
       "97     0\n",
       "102   -1\n",
       "Name: Signal, dtype: int64"
      ]
     },
     "execution_count": 374,
     "metadata": {},
     "output_type": "execute_result"
    }
   ],
   "source": [
    "y_test.head()"
   ]
  },
  {
   "cell_type": "code",
   "execution_count": 375,
   "id": "9f112c13",
   "metadata": {},
   "outputs": [
    {
     "data": {
      "text/html": [
       "<style>#sk-container-id-5 {color: black;background-color: white;}#sk-container-id-5 pre{padding: 0;}#sk-container-id-5 div.sk-toggleable {background-color: white;}#sk-container-id-5 label.sk-toggleable__label {cursor: pointer;display: block;width: 100%;margin-bottom: 0;padding: 0.3em;box-sizing: border-box;text-align: center;}#sk-container-id-5 label.sk-toggleable__label-arrow:before {content: \"▸\";float: left;margin-right: 0.25em;color: #696969;}#sk-container-id-5 label.sk-toggleable__label-arrow:hover:before {color: black;}#sk-container-id-5 div.sk-estimator:hover label.sk-toggleable__label-arrow:before {color: black;}#sk-container-id-5 div.sk-toggleable__content {max-height: 0;max-width: 0;overflow: hidden;text-align: left;background-color: #f0f8ff;}#sk-container-id-5 div.sk-toggleable__content pre {margin: 0.2em;color: black;border-radius: 0.25em;background-color: #f0f8ff;}#sk-container-id-5 input.sk-toggleable__control:checked~div.sk-toggleable__content {max-height: 200px;max-width: 100%;overflow: auto;}#sk-container-id-5 input.sk-toggleable__control:checked~label.sk-toggleable__label-arrow:before {content: \"▾\";}#sk-container-id-5 div.sk-estimator input.sk-toggleable__control:checked~label.sk-toggleable__label {background-color: #d4ebff;}#sk-container-id-5 div.sk-label input.sk-toggleable__control:checked~label.sk-toggleable__label {background-color: #d4ebff;}#sk-container-id-5 input.sk-hidden--visually {border: 0;clip: rect(1px 1px 1px 1px);clip: rect(1px, 1px, 1px, 1px);height: 1px;margin: -1px;overflow: hidden;padding: 0;position: absolute;width: 1px;}#sk-container-id-5 div.sk-estimator {font-family: monospace;background-color: #f0f8ff;border: 1px dotted black;border-radius: 0.25em;box-sizing: border-box;margin-bottom: 0.5em;}#sk-container-id-5 div.sk-estimator:hover {background-color: #d4ebff;}#sk-container-id-5 div.sk-parallel-item::after {content: \"\";width: 100%;border-bottom: 1px solid gray;flex-grow: 1;}#sk-container-id-5 div.sk-label:hover label.sk-toggleable__label {background-color: #d4ebff;}#sk-container-id-5 div.sk-serial::before {content: \"\";position: absolute;border-left: 1px solid gray;box-sizing: border-box;top: 0;bottom: 0;left: 50%;z-index: 0;}#sk-container-id-5 div.sk-serial {display: flex;flex-direction: column;align-items: center;background-color: white;padding-right: 0.2em;padding-left: 0.2em;position: relative;}#sk-container-id-5 div.sk-item {position: relative;z-index: 1;}#sk-container-id-5 div.sk-parallel {display: flex;align-items: stretch;justify-content: center;background-color: white;position: relative;}#sk-container-id-5 div.sk-item::before, #sk-container-id-5 div.sk-parallel-item::before {content: \"\";position: absolute;border-left: 1px solid gray;box-sizing: border-box;top: 0;bottom: 0;left: 50%;z-index: -1;}#sk-container-id-5 div.sk-parallel-item {display: flex;flex-direction: column;z-index: 1;position: relative;background-color: white;}#sk-container-id-5 div.sk-parallel-item:first-child::after {align-self: flex-end;width: 50%;}#sk-container-id-5 div.sk-parallel-item:last-child::after {align-self: flex-start;width: 50%;}#sk-container-id-5 div.sk-parallel-item:only-child::after {width: 0;}#sk-container-id-5 div.sk-dashed-wrapped {border: 1px dashed gray;margin: 0 0.4em 0.5em 0.4em;box-sizing: border-box;padding-bottom: 0.4em;background-color: white;}#sk-container-id-5 div.sk-label label {font-family: monospace;font-weight: bold;display: inline-block;line-height: 1.2em;}#sk-container-id-5 div.sk-label-container {text-align: center;}#sk-container-id-5 div.sk-container {/* jupyter's `normalize.less` sets `[hidden] { display: none; }` but bootstrap.min.css set `[hidden] { display: none !important; }` so we also need the `!important` here to be able to override the default hidden behavior on the sphinx rendered scikit-learn.org. See: https://github.com/scikit-learn/scikit-learn/issues/21755 */display: inline-block !important;position: relative;}#sk-container-id-5 div.sk-text-repr-fallback {display: none;}</style><div id=\"sk-container-id-5\" class=\"sk-top-container\"><div class=\"sk-text-repr-fallback\"><pre>LinearRegression()</pre><b>In a Jupyter environment, please rerun this cell to show the HTML representation or trust the notebook. <br />On GitHub, the HTML representation is unable to render, please try loading this page with nbviewer.org.</b></div><div class=\"sk-container\" hidden><div class=\"sk-item\"><div class=\"sk-estimator sk-toggleable\"><input class=\"sk-toggleable__control sk-hidden--visually\" id=\"sk-estimator-id-5\" type=\"checkbox\" checked><label for=\"sk-estimator-id-5\" class=\"sk-toggleable__label sk-toggleable__label-arrow\">LinearRegression</label><div class=\"sk-toggleable__content\"><pre>LinearRegression()</pre></div></div></div></div></div>"
      ],
      "text/plain": [
       "LinearRegression()"
      ]
     },
     "execution_count": 375,
     "metadata": {},
     "output_type": "execute_result"
    }
   ],
   "source": [
    "model.fit(X_train,y_train)"
   ]
  },
  {
   "cell_type": "code",
   "execution_count": 376,
   "id": "599bfbfa",
   "metadata": {},
   "outputs": [],
   "source": [
    "y_pred= model.predict(X_test)"
   ]
  },
  {
   "cell_type": "code",
   "execution_count": 377,
   "id": "abd5e2c1",
   "metadata": {},
   "outputs": [
    {
     "data": {
      "text/plain": [
       "array([[ 3, 19,  0],\n",
       "       [ 0, 22,  0],\n",
       "       [ 0,  6,  0]], dtype=int64)"
      ]
     },
     "execution_count": 377,
     "metadata": {},
     "output_type": "execute_result"
    }
   ],
   "source": [
    "confusion = confusion_matrix(y_test, y_pred.round())\n",
    "confusion"
   ]
  },
  {
   "cell_type": "code",
   "execution_count": 378,
   "id": "368131e3",
   "metadata": {},
   "outputs": [
    {
     "data": {
      "text/html": [
       "<div>\n",
       "<style scoped>\n",
       "    .dataframe tbody tr th:only-of-type {\n",
       "        vertical-align: middle;\n",
       "    }\n",
       "\n",
       "    .dataframe tbody tr th {\n",
       "        vertical-align: top;\n",
       "    }\n",
       "\n",
       "    .dataframe thead th {\n",
       "        text-align: right;\n",
       "    }\n",
       "</style>\n",
       "<table border=\"1\" class=\"dataframe\">\n",
       "  <thead>\n",
       "    <tr style=\"text-align: right;\">\n",
       "      <th></th>\n",
       "      <th>Close</th>\n",
       "      <th>Volume</th>\n",
       "      <th>Net</th>\n",
       "      <th>MA50</th>\n",
       "      <th>MA100</th>\n",
       "    </tr>\n",
       "  </thead>\n",
       "  <tbody>\n",
       "    <tr>\n",
       "      <th>0</th>\n",
       "      <td>2880</td>\n",
       "      <td>545009</td>\n",
       "      <td>2871</td>\n",
       "      <td>2490</td>\n",
       "      <td>2492</td>\n",
       "    </tr>\n",
       "  </tbody>\n",
       "</table>\n",
       "</div>"
      ],
      "text/plain": [
       "   Close  Volume   Net  MA50  MA100\n",
       "0   2880  545009  2871  2490   2492"
      ]
     },
     "execution_count": 378,
     "metadata": {},
     "output_type": "execute_result"
    }
   ],
   "source": [
    "x= pd.DataFrame({'Close':[2880],'Volume':[545009],'Net':[2871],'MA50':[2490],'MA100':[2492]})\n",
    "x"
   ]
  },
  {
   "cell_type": "code",
   "execution_count": 379,
   "id": "9ebcfc9b",
   "metadata": {},
   "outputs": [
    {
     "data": {
      "text/plain": [
       "0.5"
      ]
     },
     "execution_count": 379,
     "metadata": {},
     "output_type": "execute_result"
    }
   ],
   "source": [
    "accuracy = accuracy_score(y_test, y_pred.round())\n",
    "accuracy"
   ]
  },
  {
   "cell_type": "code",
   "execution_count": 380,
   "id": "0ea2f9e0",
   "metadata": {},
   "outputs": [],
   "source": [
    "y= model.predict(x)"
   ]
  },
  {
   "cell_type": "code",
   "execution_count": 381,
   "id": "0fc05732",
   "metadata": {},
   "outputs": [
    {
     "data": {
      "text/html": [
       "<div>\n",
       "<style scoped>\n",
       "    .dataframe tbody tr th:only-of-type {\n",
       "        vertical-align: middle;\n",
       "    }\n",
       "\n",
       "    .dataframe tbody tr th {\n",
       "        vertical-align: top;\n",
       "    }\n",
       "\n",
       "    .dataframe thead th {\n",
       "        text-align: right;\n",
       "    }\n",
       "</style>\n",
       "<table border=\"1\" class=\"dataframe\">\n",
       "  <thead>\n",
       "    <tr style=\"text-align: right;\">\n",
       "      <th></th>\n",
       "      <th>Signal</th>\n",
       "    </tr>\n",
       "  </thead>\n",
       "  <tbody>\n",
       "    <tr>\n",
       "      <th>0</th>\n",
       "      <td>0.117256</td>\n",
       "    </tr>\n",
       "    <tr>\n",
       "      <th>1</th>\n",
       "      <td>-0.031606</td>\n",
       "    </tr>\n",
       "    <tr>\n",
       "      <th>2</th>\n",
       "      <td>-0.342692</td>\n",
       "    </tr>\n",
       "    <tr>\n",
       "      <th>3</th>\n",
       "      <td>0.221308</td>\n",
       "    </tr>\n",
       "    <tr>\n",
       "      <th>4</th>\n",
       "      <td>-0.337607</td>\n",
       "    </tr>\n",
       "  </tbody>\n",
       "</table>\n",
       "</div>"
      ],
      "text/plain": [
       "     Signal\n",
       "0  0.117256\n",
       "1 -0.031606\n",
       "2 -0.342692\n",
       "3  0.221308\n",
       "4 -0.337607"
      ]
     },
     "execution_count": 381,
     "metadata": {},
     "output_type": "execute_result"
    }
   ],
   "source": [
    "df_pred = pd.DataFrame(y_pred, columns=['Signal'])\n",
    "df_pred.head()"
   ]
  },
  {
   "cell_type": "code",
   "execution_count": 388,
   "id": "009c4ae7",
   "metadata": {},
   "outputs": [
    {
     "data": {
      "text/html": [
       "<div>\n",
       "<style scoped>\n",
       "    .dataframe tbody tr th:only-of-type {\n",
       "        vertical-align: middle;\n",
       "    }\n",
       "\n",
       "    .dataframe tbody tr th {\n",
       "        vertical-align: top;\n",
       "    }\n",
       "\n",
       "    .dataframe thead th {\n",
       "        text-align: right;\n",
       "    }\n",
       "</style>\n",
       "<table border=\"1\" class=\"dataframe\">\n",
       "  <thead>\n",
       "    <tr style=\"text-align: right;\">\n",
       "      <th></th>\n",
       "      <th>Signal</th>\n",
       "      <th>Signal</th>\n",
       "    </tr>\n",
       "  </thead>\n",
       "  <tbody>\n",
       "    <tr>\n",
       "      <th>0</th>\n",
       "      <td>0.0</td>\n",
       "      <td>0.117256</td>\n",
       "    </tr>\n",
       "    <tr>\n",
       "      <th>79</th>\n",
       "      <td>0.0</td>\n",
       "      <td>NaN</td>\n",
       "    </tr>\n",
       "    <tr>\n",
       "      <th>171</th>\n",
       "      <td>-1.0</td>\n",
       "      <td>NaN</td>\n",
       "    </tr>\n",
       "    <tr>\n",
       "      <th>97</th>\n",
       "      <td>0.0</td>\n",
       "      <td>NaN</td>\n",
       "    </tr>\n",
       "    <tr>\n",
       "      <th>102</th>\n",
       "      <td>-1.0</td>\n",
       "      <td>NaN</td>\n",
       "    </tr>\n",
       "    <tr>\n",
       "      <th>...</th>\n",
       "      <td>...</td>\n",
       "      <td>...</td>\n",
       "    </tr>\n",
       "    <tr>\n",
       "      <th>42</th>\n",
       "      <td>NaN</td>\n",
       "      <td>-0.396650</td>\n",
       "    </tr>\n",
       "    <tr>\n",
       "      <th>43</th>\n",
       "      <td>NaN</td>\n",
       "      <td>0.141903</td>\n",
       "    </tr>\n",
       "    <tr>\n",
       "      <th>47</th>\n",
       "      <td>NaN</td>\n",
       "      <td>-0.432400</td>\n",
       "    </tr>\n",
       "    <tr>\n",
       "      <th>48</th>\n",
       "      <td>NaN</td>\n",
       "      <td>-0.400148</td>\n",
       "    </tr>\n",
       "    <tr>\n",
       "      <th>49</th>\n",
       "      <td>NaN</td>\n",
       "      <td>-0.128372</td>\n",
       "    </tr>\n",
       "  </tbody>\n",
       "</table>\n",
       "<p>88 rows × 2 columns</p>\n",
       "</div>"
      ],
      "text/plain": [
       "     Signal    Signal\n",
       "0       0.0  0.117256\n",
       "79      0.0       NaN\n",
       "171    -1.0       NaN\n",
       "97      0.0       NaN\n",
       "102    -1.0       NaN\n",
       "..      ...       ...\n",
       "42      NaN -0.396650\n",
       "43      NaN  0.141903\n",
       "47      NaN -0.432400\n",
       "48      NaN -0.400148\n",
       "49      NaN -0.128372\n",
       "\n",
       "[88 rows x 2 columns]"
      ]
     },
     "execution_count": 388,
     "metadata": {},
     "output_type": "execute_result"
    }
   ],
   "source": [
    "f = pd.concat([y_test,df_pred], axis=1)\n",
    "f\n"
   ]
  }
 ],
 "metadata": {
  "kernelspec": {
   "display_name": "Python 3 (ipykernel)",
   "language": "python",
   "name": "python3"
  },
  "language_info": {
   "codemirror_mode": {
    "name": "ipython",
    "version": 3
   },
   "file_extension": ".py",
   "mimetype": "text/x-python",
   "name": "python",
   "nbconvert_exporter": "python",
   "pygments_lexer": "ipython3",
   "version": "3.11.1"
  }
 },
 "nbformat": 4,
 "nbformat_minor": 5
}
